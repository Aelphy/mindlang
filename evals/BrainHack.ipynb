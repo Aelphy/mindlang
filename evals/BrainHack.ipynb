{
 "cells": [
  {
   "cell_type": "code",
   "execution_count": 1,
   "metadata": {},
   "outputs": [],
   "source": [
    "%load_ext autoreload\n",
    "%autoreload 2"
   ]
  },
  {
   "cell_type": "code",
   "execution_count": 2,
   "metadata": {},
   "outputs": [
    {
     "name": "stderr",
     "output_type": "stream",
     "text": [
      "Using TensorFlow backend.\n"
     ]
    }
   ],
   "source": [
    "import pyedflib\n",
    "\n",
    "import matplotlib.pyplot as plt\n",
    "%matplotlib inline\n",
    "\n",
    "import sklearn \n",
    "import keras\n",
    "import numpy as np\n",
    "import os\n",
    "import os.path as osp"
   ]
  },
  {
   "cell_type": "code",
   "execution_count": 3,
   "metadata": {},
   "outputs": [],
   "source": [
    "EEG_DATA = '/Users/aelphy/Downloads/files/'\n",
    "\n",
    "open_eyes = []\n",
    "closed_eyes = []\n",
    "for session in os.listdir(EEG_DATA):\n",
    "    if session.startswith('S') and not session.endswith('.txt'):\n",
    "        fopen = pyedflib.EdfReader(osp.join(EEG_DATA, session, session + 'R01.edf'))\n",
    "        fclosed = pyedflib.EdfReader(osp.join(EEG_DATA, session, session + 'R02.edf'))\n",
    "        \n",
    "        for i, f in enumerate([fopen, fclosed]):\n",
    "            n = f.signals_in_file\n",
    "            signal_labels = f.getSignalLabels()\n",
    "            sigbufs = np.zeros((n, f.getNSamples()[0]))\n",
    "            for j in np.arange(n):\n",
    "                sigbufs[j, :] = f.readSignal(j)\n",
    "            [open_eyes, closed_eyes][i].append(sigbufs[None, ..., :9600])"
   ]
  },
  {
   "cell_type": "code",
   "execution_count": 4,
   "metadata": {},
   "outputs": [],
   "source": [
    "open_eyes = np.concatenate(open_eyes)\n",
    "closed_eyes = np.concatenate(closed_eyes)\n",
    "X = np.concatenate([open_eyes, closed_eyes])\n",
    "labels = np.concatenate([np.zeros(len(open_eyes)), np.ones(len(closed_eyes))])"
   ]
  },
  {
   "cell_type": "code",
   "execution_count": 5,
   "metadata": {},
   "outputs": [],
   "source": [
    "from sklearn.model_selection import train_test_split"
   ]
  },
  {
   "cell_type": "code",
   "execution_count": 6,
   "metadata": {},
   "outputs": [],
   "source": [
    "X_train, X_val, y_train, y_val = train_test_split(X, labels)"
   ]
  },
  {
   "cell_type": "code",
   "execution_count": 7,
   "metadata": {},
   "outputs": [],
   "source": [
    "from sklearn.manifold import TSNE"
   ]
  },
  {
   "cell_type": "code",
   "execution_count": 8,
   "metadata": {},
   "outputs": [],
   "source": [
    "X_embedded = TSNE(n_components=2).fit_transform(X_train.reshape(len(X_train), -1))"
   ]
  },
  {
   "cell_type": "code",
   "execution_count": 9,
   "metadata": {},
   "outputs": [
    {
     "data": {
      "text/plain": [
       "<matplotlib.collections.PathCollection at 0xd3e56d1d0>"
      ]
     },
     "execution_count": 9,
     "metadata": {},
     "output_type": "execute_result"
    },
    {
     "data": {
      "image/png": "[encoded data removed]",
      "text/plain": [
       "<Figure size 432x288 with 1 Axes>"
      ]
     },
     "metadata": {
      "needs_background": "light"
     },
     "output_type": "display_data"
    }
   ],
   "source": [
    "plt.scatter(X_embedded[:, 0][y_train == 0], X_embedded[:, 1][y_train == 0])\n",
    "plt.scatter(X_embedded[:, 0][y_train == 1], X_embedded[:, 1][y_train == 1])"
   ]
  },
  {
   "cell_type": "code",
   "execution_count": 10,
   "metadata": {},
   "outputs": [],
   "source": [
    "from sklearn.preprocessing import StandardScaler\n",
    "sc1 = StandardScaler()"
   ]
  },
  {
   "cell_type": "code",
   "execution_count": 11,
   "metadata": {},
   "outputs": [],
   "source": [
    "X_train_shape = X_train.shape\n",
    "X_val_shape = X_val.shape\n",
    "X_train_scaled = sc1.fit_transform(X_train.reshape(-1, 1)).reshape(X_train_shape).transpose(0, 2, 1)\n",
    "X_val_scaled = sc1.transform(X_val.reshape(-1, 1)).reshape(X_val_shape).transpose(0, 2, 1)\n",
    "X_train_scaled = X_train.transpose(0, 2, 1)\n",
    "X_val_scaled = X_val.transpose(0, 2, 1)"
   ]
  },
  {
   "cell_type": "code",
   "execution_count": 13,
   "metadata": {},
   "outputs": [],
   "source": [
    "import tntorch as tn\n",
    "import torch"
   ]
  },
  {
   "cell_type": "code",
   "execution_count": 14,
   "metadata": {},
   "outputs": [
    {
     "data": {
      "text/plain": [
       "([torch.Size([163, 1280]),\n",
       "  torch.Size([163, 4000]),\n",
       "  torch.Size([163, 4000]),\n",
       "  torch.Size([163, 1920])],\n",
       " [torch.Size([55, 1280]),\n",
       "  torch.Size([55, 4000]),\n",
       "  torch.Size([55, 4000]),\n",
       "  torch.Size([55, 1920])])"
      ]
     },
     "execution_count": 14,
     "metadata": {},
     "output_type": "execute_result"
    }
   ],
   "source": [
    "tt = tn.Tensor(X_train.reshape(X_train.shape[0], X_train.shape[1], *[10, 10, 96]), ranks_tt=20, batch=True)\n",
    "tt_val = tn.Tensor(X_val.reshape(X_val.shape[0], X_val.shape[1], *[10, 10, 96]), ranks_tt=20, batch=True)\n",
    "train_cores = [core.reshape(len(core), -1) for core in tt.cores]\n",
    "val_cores = [core.reshape(len(core), -1) for core in tt_val.cores]\n",
    "[core.shape for core in train_cores], [core.shape for core in val_cores]"
   ]
  },
  {
   "cell_type": "code",
   "execution_count": 15,
   "metadata": {},
   "outputs": [],
   "source": [
    "def iterate_minibatches(l, batch_size, shuffle=True):\n",
    "    idxs = np.arange(l)\n",
    "    if shuffle:\n",
    "        np.random.shuffle(idxs)\n",
    "\n",
    "    if batch_size > l:\n",
    "        yield idxs\n",
    "        return\n",
    "        \n",
    "    for start_idx in range(0, l, batch_size):\n",
    "        excerpt = idxs[start_idx:start_idx + batch_size]\n",
    "        yield excerpt"
   ]
  },
  {
   "cell_type": "code",
   "execution_count": 18,
   "metadata": {},
   "outputs": [],
   "source": [
    "import math\n",
    "import torch\n",
    "from torch.optim.optimizer import Optimizer, required\n",
    "\n",
    "class RAdam(Optimizer):\n",
    "    def __init__(self, params, lr=1e-3, betas=(0.9, 0.999), eps=1e-8, weight_decay=0):\n",
    "        defaults = dict(lr=lr, betas=betas, eps=eps, weight_decay=weight_decay)\n",
    "        self.buffer = [[None, None, None] for ind in range(10)]\n",
    "        super(RAdam, self).__init__(params, defaults)\n",
    "\n",
    "    def __setstate__(self, state):\n",
    "        super(RAdam, self).__setstate__(state)\n",
    "\n",
    "    def step(self, closure=None):\n",
    "\n",
    "        loss = None\n",
    "        if closure is not None:\n",
    "            loss = closure()\n",
    "\n",
    "        for group in self.param_groups:\n",
    "\n",
    "            for p in group['params']:\n",
    "                if p.grad is None:\n",
    "                    continue\n",
    "                grad = p.grad.data.float()\n",
    "                if grad.is_sparse:\n",
    "                    raise RuntimeError('RAdam does not support sparse gradients')\n",
    "\n",
    "                p_data_fp32 = p.data.float()\n",
    "\n",
    "                state = self.state[p]\n",
    "\n",
    "                if len(state) == 0:\n",
    "                    state['step'] = 0\n",
    "                    state['exp_avg'] = torch.zeros_like(p_data_fp32)\n",
    "                    state['exp_avg_sq'] = torch.zeros_like(p_data_fp32)\n",
    "                else:\n",
    "                    state['exp_avg'] = state['exp_avg'].type_as(p_data_fp32)\n",
    "                    state['exp_avg_sq'] = state['exp_avg_sq'].type_as(p_data_fp32)\n",
    "\n",
    "                exp_avg, exp_avg_sq = state['exp_avg'], state['exp_avg_sq']\n",
    "                beta1, beta2 = group['betas']\n",
    "\n",
    "                exp_avg_sq.mul_(beta2).addcmul_(1 - beta2, grad, grad)\n",
    "                exp_avg.mul_(beta1).add_(1 - beta1, grad)\n",
    "\n",
    "                state['step'] += 1\n",
    "                buffered = self.buffer[int(state['step'] % 10)]\n",
    "                if state['step'] == buffered[0]:\n",
    "                    N_sma, step_size = buffered[1], buffered[2]\n",
    "                else:\n",
    "                    buffered[0] = state['step']\n",
    "                    beta2_t = beta2 ** state['step']\n",
    "                    N_sma_max = 2 / (1 - beta2) - 1\n",
    "                    N_sma = N_sma_max - 2 * state['step'] * beta2_t / (1 - beta2_t)\n",
    "                    buffered[1] = N_sma\n",
    "\n",
    "                    # more conservative since it's an approximated value\n",
    "                    if N_sma >= 5:\n",
    "                        step_size = group['lr'] * math.sqrt((1 - beta2_t) * (N_sma - 4) / (N_sma_max - 4) * (N_sma - 2) / N_sma * N_sma_max / (N_sma_max - 2)) / (1 - beta1 ** state['step'])\n",
    "                    else:\n",
    "                        step_size = group['lr'] / (1 - beta1 ** state['step'])\n",
    "                    buffered[2] = step_size\n",
    "\n",
    "                if group['weight_decay'] != 0:\n",
    "                    p_data_fp32.add_(-group['weight_decay'] * group['lr'], p_data_fp32)\n",
    "\n",
    "                # more conservative since it's an approximated value\n",
    "                if N_sma >= 5:            \n",
    "                    denom = exp_avg_sq.sqrt().add_(group['eps'])\n",
    "                    p_data_fp32.addcdiv_(-step_size, exp_avg, denom)\n",
    "                else:\n",
    "                    p_data_fp32.add_(-step_size, exp_avg)\n",
    "\n",
    "                p.data.copy_(p_data_fp32)\n",
    "\n",
    "        return loss\n",
    "\n",
    "class PlainRAdam(Optimizer):\n",
    "\n",
    "    def __init__(self, params, lr=1e-3, betas=(0.9, 0.999), eps=1e-8, weight_decay=0):\n",
    "        defaults = dict(lr=lr, betas=betas, eps=eps, weight_decay=weight_decay)\n",
    "\n",
    "        super(PlainRAdam, self).__init__(params, defaults)\n",
    "\n",
    "    def __setstate__(self, state):\n",
    "        super(PlainRAdam, self).__setstate__(state)\n",
    "\n",
    "    def step(self, closure=None):\n",
    "\n",
    "        loss = None\n",
    "        if closure is not None:\n",
    "            loss = closure()\n",
    "\n",
    "        for group in self.param_groups:\n",
    "\n",
    "            for p in group['params']:\n",
    "                if p.grad is None:\n",
    "                    continue\n",
    "                grad = p.grad.data.float()\n",
    "                if grad.is_sparse:\n",
    "                    raise RuntimeError('RAdam does not support sparse gradients')\n",
    "\n",
    "                p_data_fp32 = p.data.float()\n",
    "\n",
    "                state = self.state[p]\n",
    "\n",
    "                if len(state) == 0:\n",
    "                    state['step'] = 0\n",
    "                    state['exp_avg'] = torch.zeros_like(p_data_fp32)\n",
    "                    state['exp_avg_sq'] = torch.zeros_like(p_data_fp32)\n",
    "                else:\n",
    "                    state['exp_avg'] = state['exp_avg'].type_as(p_data_fp32)\n",
    "                    state['exp_avg_sq'] = state['exp_avg_sq'].type_as(p_data_fp32)\n",
    "\n",
    "                exp_avg, exp_avg_sq = state['exp_avg'], state['exp_avg_sq']\n",
    "                beta1, beta2 = group['betas']\n",
    "\n",
    "                exp_avg_sq.mul_(beta2).addcmul_(1 - beta2, grad, grad)\n",
    "                exp_avg.mul_(beta1).add_(1 - beta1, grad)\n",
    "\n",
    "                state['step'] += 1\n",
    "                beta2_t = beta2 ** state['step']\n",
    "                N_sma_max = 2 / (1 - beta2) - 1\n",
    "                N_sma = N_sma_max - 2 * state['step'] * beta2_t / (1 - beta2_t)\n",
    "\n",
    "                if group['weight_decay'] != 0:\n",
    "                    p_data_fp32.add_(-group['weight_decay'] * group['lr'], p_data_fp32)\n",
    "\n",
    "                # more conservative since it's an approximated value\n",
    "                if N_sma >= 5:                    \n",
    "                    step_size = group['lr'] * math.sqrt((1 - beta2_t) * (N_sma - 4) / (N_sma_max - 4) * (N_sma - 2) / N_sma * N_sma_max / (N_sma_max - 2)) / (1 - beta1 ** state['step'])\n",
    "                    denom = exp_avg_sq.sqrt().add_(group['eps'])\n",
    "                    p_data_fp32.addcdiv_(-step_size, exp_avg, denom)\n",
    "                else:\n",
    "                    step_size = group['lr'] / (1 - beta1 ** state['step'])\n",
    "                    p_data_fp32.add_(-step_size, exp_avg)\n",
    "\n",
    "                p.data.copy_(p_data_fp32)\n",
    "\n",
    "        return loss\n",
    "\n",
    "\n",
    "class AdamW(Optimizer):\n",
    "\n",
    "    def __init__(self, params, lr=1e-3, betas=(0.9, 0.999), eps=1e-8, weight_decay=0, warmup = 0):\n",
    "        defaults = dict(lr=lr, betas=betas, eps=eps,\n",
    "                        weight_decay=weight_decay, warmup = warmup)\n",
    "        super(AdamW, self).__init__(params, defaults)\n",
    "\n",
    "    def __setstate__(self, state):\n",
    "        super(AdamW, self).__setstate__(state)\n",
    "\n",
    "    def step(self, closure=None):\n",
    "        loss = None\n",
    "        if closure is not None:\n",
    "            loss = closure()\n",
    "\n",
    "        for group in self.param_groups:\n",
    "\n",
    "            for p in group['params']:\n",
    "                if p.grad is None:\n",
    "                    continue\n",
    "                grad = p.grad.data.float()\n",
    "                if grad.is_sparse:\n",
    "                    raise RuntimeError('Adam does not support sparse gradients, please consider SparseAdam instead')\n",
    "\n",
    "                p_data_fp32 = p.data.float()\n",
    "\n",
    "                state = self.state[p]\n",
    "\n",
    "                if len(state) == 0:\n",
    "                    state['step'] = 0\n",
    "                    state['exp_avg'] = torch.zeros_like(p_data_fp32)\n",
    "                    state['exp_avg_sq'] = torch.zeros_like(p_data_fp32)\n",
    "                else:\n",
    "                    state['exp_avg'] = state['exp_avg'].type_as(p_data_fp32)\n",
    "                    state['exp_avg_sq'] = state['exp_avg_sq'].type_as(p_data_fp32)\n",
    "\n",
    "                exp_avg, exp_avg_sq = state['exp_avg'], state['exp_avg_sq']\n",
    "                beta1, beta2 = group['betas']\n",
    "\n",
    "                state['step'] += 1\n",
    "\n",
    "                exp_avg_sq.mul_(beta2).addcmul_(1 - beta2, grad, grad)\n",
    "                exp_avg.mul_(beta1).add_(1 - beta1, grad)\n",
    "\n",
    "                denom = exp_avg_sq.sqrt().add_(group['eps'])\n",
    "                bias_correction1 = 1 - beta1 ** state['step']\n",
    "                bias_correction2 = 1 - beta2 ** state['step']\n",
    "                \n",
    "                if group['warmup'] > state['step']:\n",
    "                    scheduled_lr = 1e-8 + state['step'] * group['lr'] / group['warmup']\n",
    "                else:\n",
    "                    scheduled_lr = group['lr']\n",
    "\n",
    "                step_size = group['lr'] * math.sqrt(bias_correction2) / bias_correction1\n",
    "                \n",
    "                if group['weight_decay'] != 0:\n",
    "                    p_data_fp32.add_(-group['weight_decay'] * scheduled_lr, p_data_fp32)\n",
    "\n",
    "                p_data_fp32.addcdiv_(-step_size, exp_avg, denom)\n",
    "\n",
    "                p.data.copy_(p_data_fp32)\n",
    "\n",
    "        return loss"
   ]
  },
  {
   "cell_type": "code",
   "execution_count": 22,
   "metadata": {},
   "outputs": [],
   "source": [
    "clf = TTClassifier(train_cores, 2, device='cpu')\n",
    "optimizer = RAdam(list(clf.parameters()), lr=1e-3)"
   ]
  },
  {
   "cell_type": "code",
   "execution_count": 21,
   "metadata": {},
   "outputs": [],
   "source": [
    "import torch.nn.functional as F\n",
    "import torch.nn as nn\n",
    "import torch\n",
    "import numpy as np\n",
    "\n",
    "class TTClassifier(nn.Module):\n",
    "    def __init__(self, cores, num_classes, device='cpu'):\n",
    "        super(TTClassifier, self).__init__()\n",
    "                \n",
    "        self.inpts = [None] * len(cores)        \n",
    "        lens = [None] * len(cores)\n",
    "        for i, core in enumerate(cores):\n",
    "            lens[i] = np.prod(core.shape[1:])\n",
    "            self.inpts[i] = nn.Sequential(\n",
    "                nn.Linear(lens[i], 2 * lens[i]),\n",
    "                nn.Tanh()\n",
    "            ).to(device)\n",
    "        \n",
    "        self.classifier = nn.Sequential(\n",
    "            nn.Dropout(p=0.5),\n",
    "            nn.Linear(2 * np.sum(lens), 500),\n",
    "            nn.ReLU(inplace=True),\n",
    "            nn.Dropout(p=0.5),\n",
    "            nn.Linear(500, 250),\n",
    "            nn.ReLU(inplace=True),\n",
    "            nn.Linear(250, num_classes)\n",
    "        )\n",
    "\n",
    "    def forward(self, x):\n",
    "        inpts = [None] * len(x)\n",
    "        for i, core in enumerate(x):\n",
    "            inpts[i] = self.inpts[i](core)\n",
    "\n",
    "        return self.classifier(torch.cat(inpts, dim=1))"
   ]
  },
  {
   "cell_type": "code",
   "execution_count": 85,
   "metadata": {},
   "outputs": [],
   "source": [
    "def compute_CE(orig, pred):\n",
    "    return torch.nn.functional.cross_entropy(pred, orig)"
   ]
  },
  {
   "cell_type": "code",
   "execution_count": 92,
   "metadata": {},
   "outputs": [
    {
     "name": "stdout",
     "output_type": "stream",
     "text": [
      "Epoch 1:\n",
      "\t TRAIN LOSS=0.6968722105026245\n",
      "\t VAL LOSS=0.7033094763755798\n",
      "\t FAILED 0\n",
      "Epoch 2:\n",
      "\t TRAIN LOSS=0.686477255821228\n",
      "\t VAL LOSS=0.6756517291069031\n",
      "\t FAILED 0\n",
      "Epoch 3:\n",
      "\t TRAIN LOSS=0.6521947383880615\n",
      "\t VAL LOSS=0.6520096659660339\n",
      "\t FAILED 0\n",
      "Epoch 4:\n",
      "\t TRAIN LOSS=0.6065455794334411\n",
      "\t VAL LOSS=0.6098774671554565\n",
      "\t FAILED 0\n",
      "Epoch 5:\n",
      "\t TRAIN LOSS=0.5390273213386536\n",
      "\t VAL LOSS=0.5940300226211548\n",
      "\t FAILED 0\n",
      "Epoch 6:\n",
      "\t TRAIN LOSS=0.49159618020057677\n",
      "\t VAL LOSS=0.6322389841079712\n",
      "\t FAILED 0\n",
      "Epoch 7:\n",
      "\t TRAIN LOSS=0.45858129262924197\n",
      "\t VAL LOSS=0.5036295652389526\n",
      "\t FAILED 0\n",
      "Epoch 8:\n",
      "\t TRAIN LOSS=0.4051064014434814\n",
      "\t VAL LOSS=0.6640836000442505\n",
      "\t FAILED 0\n",
      "Epoch 9:\n",
      "\t TRAIN LOSS=0.34034051895141604\n",
      "\t VAL LOSS=0.45472729206085205\n",
      "\t FAILED 0\n",
      "Epoch 10:\n",
      "\t TRAIN LOSS=0.28474880158901217\n",
      "\t VAL LOSS=0.5494940280914307\n",
      "\t FAILED 0\n"
     ]
    }
   ],
   "source": [
    "failed = set()\n",
    "batch_size = 32\n",
    "num_epochs = 10\n",
    "eval_every = 1\n",
    "\n",
    "for j in range(num_epochs):\n",
    "    counter = 0\n",
    "    counter_val = 0\n",
    "    ce_val = 0\n",
    "    ce_train = 0\n",
    "    loss = 0\n",
    "    loss_val = 0\n",
    "\n",
    "    clf.train()\n",
    "    for idxs in iterate_minibatches(len(X_train), batch_size):\n",
    "        optimizer.zero_grad()\n",
    "\n",
    "        cores = [core[idxs] for core in train_cores]\n",
    "        clf_preds = clf(cores)\n",
    "\n",
    "        ce_loss_batch = compute_CE(torch.tensor(y_train[idxs]).long(), clf_preds)\n",
    "\n",
    "        loss_batch = ce_loss_batch\n",
    "\n",
    "        try:\n",
    "            loss_batch.backward()\n",
    "            optimizer.step()\n",
    "\n",
    "            counter += 1\n",
    "            loss += loss_batch.detach().cpu().numpy()\n",
    "            ce_train += ce_loss_batch.detach().cpu().numpy()\n",
    "        except:\n",
    "            for idx in idxs:\n",
    "                failed.add(idx)\n",
    "\n",
    "    if (j + 1) % eval_every == 0:\n",
    "        clf.eval()\n",
    "        for idxs in iterate_minibatches(len(X_val), batch_size):\n",
    "            cores = [core[idxs] for core in val_cores]\n",
    "            clf_preds = clf(cores)\n",
    "\n",
    "            ce_loss_batch = compute_CE(torch.tensor(y_val[idxs]).long(), clf_preds)\n",
    "\n",
    "            loss_batch = ce_loss_batch\n",
    "\n",
    "            counter_val += 1\n",
    "            loss_val += loss_batch.detach().cpu().numpy()\n",
    "            ce_val += ce_loss_batch.detach().cpu().numpy()\n",
    "            \n",
    "        print('Epoch {}:'.format(j + 1))\n",
    "        print('\\t TRAIN LOSS={}'.format(loss / counter))\n",
    "        print('\\t VAL LOSS={}'.format(loss_val / counter_val))\n",
    "        print('\\t FAILED {}'.format(len(failed)))"
   ]
  },
  {
   "cell_type": "code",
   "execution_count": 156,
   "metadata": {},
   "outputs": [],
   "source": [
    "clf.eval()\n",
    "preds = []\n",
    "labs = []\n",
    "for idxs in iterate_minibatches(len(X_val), batch_size, shuffle=False):\n",
    "    cores = [core[idxs] for core in val_cores]\n",
    "    clf_preds = clf(cores)\n",
    "    preds.append(torch.argmax(torch.softmax(clf_preds, dim=1), dim=1))\n",
    "    labs.append(torch.tensor(y_val[idxs]).long())"
   ]
  },
  {
   "cell_type": "code",
   "execution_count": 159,
   "metadata": {},
   "outputs": [
    {
     "data": {
      "text/plain": [
       "tensor(0.7455)"
      ]
     },
     "execution_count": 159,
     "metadata": {},
     "output_type": "execute_result"
    }
   ],
   "source": [
    "(torch.cat(preds) == torch.cat(labs)).sum().float() / len(torch.cat(preds))"
   ]
  }
 ],
 "metadata": {
  "kernelspec": {
   "display_name": "Python 3",
   "language": "python",
   "name": "python3"
  },
  "language_info": {
   "codemirror_mode": {
    "name": "ipython",
    "version": 3
   },
   "file_extension": ".py",
   "mimetype": "text/x-python",
   "name": "python",
   "nbconvert_exporter": "python",
   "pygments_lexer": "ipython3",
   "version": "3.6.8"
  }
 },
 "nbformat": 4,
 "nbformat_minor": 2
}
